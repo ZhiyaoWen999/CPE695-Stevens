{
 "cells": [
  {
   "cell_type": "markdown",
   "id": "a05791dc",
   "metadata": {},
   "source": [
    "[44 points] Write a program to find the coefficients for a linear regression model for the dataset\n",
    "provided (data2.txt). Assume a linear model: y = w0 + w1*x. You need to\n",
    "1) Plot the data (i.e., x-axis for the 1st column, y-axis for the 2nd column),\n",
    "and use Python to implement the following methods to find the coefficients: \n"
   ]
  },
  {
   "cell_type": "code",
   "execution_count": 170,
   "id": "a7c5c7cc",
   "metadata": {},
   "outputs": [],
   "source": [
    "import pandas as pd\n",
    "import numpy as np\n",
    "import matplotlib.pyplot as plt"
   ]
  },
  {
   "cell_type": "code",
   "execution_count": 171,
   "id": "843b3bf7",
   "metadata": {},
   "outputs": [],
   "source": [
    "data = pd.read_csv('data2.txt',header = None)"
   ]
  },
  {
   "cell_type": "code",
   "execution_count": 172,
   "id": "9a3598b0",
   "metadata": {},
   "outputs": [],
   "source": [
    "data.rename(columns={0:'x1',1:'y'},inplace=True) # rename columns"
   ]
  },
  {
   "cell_type": "code",
   "execution_count": 173,
   "id": "14a7eca8",
   "metadata": {},
   "outputs": [
    {
     "data": {
      "text/html": [
       "<div>\n",
       "<style scoped>\n",
       "    .dataframe tbody tr th:only-of-type {\n",
       "        vertical-align: middle;\n",
       "    }\n",
       "\n",
       "    .dataframe tbody tr th {\n",
       "        vertical-align: top;\n",
       "    }\n",
       "\n",
       "    .dataframe thead th {\n",
       "        text-align: right;\n",
       "    }\n",
       "</style>\n",
       "<table border=\"1\" class=\"dataframe\">\n",
       "  <thead>\n",
       "    <tr style=\"text-align: right;\">\n",
       "      <th></th>\n",
       "      <th>x1</th>\n",
       "      <th>y</th>\n",
       "    </tr>\n",
       "  </thead>\n",
       "  <tbody>\n",
       "    <tr>\n",
       "      <th>0</th>\n",
       "      <td>6.1101</td>\n",
       "      <td>17.59200</td>\n",
       "    </tr>\n",
       "    <tr>\n",
       "      <th>1</th>\n",
       "      <td>5.5277</td>\n",
       "      <td>9.13020</td>\n",
       "    </tr>\n",
       "    <tr>\n",
       "      <th>2</th>\n",
       "      <td>8.5186</td>\n",
       "      <td>13.66200</td>\n",
       "    </tr>\n",
       "    <tr>\n",
       "      <th>3</th>\n",
       "      <td>7.0032</td>\n",
       "      <td>11.85400</td>\n",
       "    </tr>\n",
       "    <tr>\n",
       "      <th>4</th>\n",
       "      <td>5.8598</td>\n",
       "      <td>6.82330</td>\n",
       "    </tr>\n",
       "    <tr>\n",
       "      <th>...</th>\n",
       "      <td>...</td>\n",
       "      <td>...</td>\n",
       "    </tr>\n",
       "    <tr>\n",
       "      <th>92</th>\n",
       "      <td>5.8707</td>\n",
       "      <td>7.20290</td>\n",
       "    </tr>\n",
       "    <tr>\n",
       "      <th>93</th>\n",
       "      <td>5.3054</td>\n",
       "      <td>1.98690</td>\n",
       "    </tr>\n",
       "    <tr>\n",
       "      <th>94</th>\n",
       "      <td>8.2934</td>\n",
       "      <td>0.14454</td>\n",
       "    </tr>\n",
       "    <tr>\n",
       "      <th>95</th>\n",
       "      <td>13.3940</td>\n",
       "      <td>9.05510</td>\n",
       "    </tr>\n",
       "    <tr>\n",
       "      <th>96</th>\n",
       "      <td>5.4369</td>\n",
       "      <td>0.61705</td>\n",
       "    </tr>\n",
       "  </tbody>\n",
       "</table>\n",
       "<p>97 rows × 2 columns</p>\n",
       "</div>"
      ],
      "text/plain": [
       "         x1         y\n",
       "0    6.1101  17.59200\n",
       "1    5.5277   9.13020\n",
       "2    8.5186  13.66200\n",
       "3    7.0032  11.85400\n",
       "4    5.8598   6.82330\n",
       "..      ...       ...\n",
       "92   5.8707   7.20290\n",
       "93   5.3054   1.98690\n",
       "94   8.2934   0.14454\n",
       "95  13.3940   9.05510\n",
       "96   5.4369   0.61705\n",
       "\n",
       "[97 rows x 2 columns]"
      ]
     },
     "execution_count": 173,
     "metadata": {},
     "output_type": "execute_result"
    }
   ],
   "source": [
    "data"
   ]
  },
  {
   "cell_type": "code",
   "execution_count": 174,
   "id": "d4aee3ef",
   "metadata": {},
   "outputs": [
    {
     "data": {
      "text/plain": [
       "<AxesSubplot:xlabel='x1', ylabel='y'>"
      ]
     },
     "execution_count": 174,
     "metadata": {},
     "output_type": "execute_result"
    },
    {
     "data": {
      "image/png": "[encoded data removed]",
      "text/plain": [
       "<Figure size 432x288 with 1 Axes>"
      ]
     },
     "metadata": {
      "needs_background": "light"
     },
     "output_type": "display_data"
    }
   ],
   "source": [
    "data.plot(kind='scatter',x='x1',y='y')"
   ]
  },
  {
   "cell_type": "code",
   "execution_count": 175,
   "id": "1b61f048",
   "metadata": {},
   "outputs": [],
   "source": [
    "data.insert(0,'x0',1) # add bias"
   ]
  },
  {
   "cell_type": "code",
   "execution_count": 176,
   "id": "f93d09a9",
   "metadata": {},
   "outputs": [
    {
     "data": {
      "text/html": [
       "<div>\n",
       "<style scoped>\n",
       "    .dataframe tbody tr th:only-of-type {\n",
       "        vertical-align: middle;\n",
       "    }\n",
       "\n",
       "    .dataframe tbody tr th {\n",
       "        vertical-align: top;\n",
       "    }\n",
       "\n",
       "    .dataframe thead th {\n",
       "        text-align: right;\n",
       "    }\n",
       "</style>\n",
       "<table border=\"1\" class=\"dataframe\">\n",
       "  <thead>\n",
       "    <tr style=\"text-align: right;\">\n",
       "      <th></th>\n",
       "      <th>x0</th>\n",
       "      <th>x1</th>\n",
       "      <th>y</th>\n",
       "    </tr>\n",
       "  </thead>\n",
       "  <tbody>\n",
       "    <tr>\n",
       "      <th>0</th>\n",
       "      <td>1</td>\n",
       "      <td>6.1101</td>\n",
       "      <td>17.59200</td>\n",
       "    </tr>\n",
       "    <tr>\n",
       "      <th>1</th>\n",
       "      <td>1</td>\n",
       "      <td>5.5277</td>\n",
       "      <td>9.13020</td>\n",
       "    </tr>\n",
       "    <tr>\n",
       "      <th>2</th>\n",
       "      <td>1</td>\n",
       "      <td>8.5186</td>\n",
       "      <td>13.66200</td>\n",
       "    </tr>\n",
       "    <tr>\n",
       "      <th>3</th>\n",
       "      <td>1</td>\n",
       "      <td>7.0032</td>\n",
       "      <td>11.85400</td>\n",
       "    </tr>\n",
       "    <tr>\n",
       "      <th>4</th>\n",
       "      <td>1</td>\n",
       "      <td>5.8598</td>\n",
       "      <td>6.82330</td>\n",
       "    </tr>\n",
       "    <tr>\n",
       "      <th>...</th>\n",
       "      <td>...</td>\n",
       "      <td>...</td>\n",
       "      <td>...</td>\n",
       "    </tr>\n",
       "    <tr>\n",
       "      <th>92</th>\n",
       "      <td>1</td>\n",
       "      <td>5.8707</td>\n",
       "      <td>7.20290</td>\n",
       "    </tr>\n",
       "    <tr>\n",
       "      <th>93</th>\n",
       "      <td>1</td>\n",
       "      <td>5.3054</td>\n",
       "      <td>1.98690</td>\n",
       "    </tr>\n",
       "    <tr>\n",
       "      <th>94</th>\n",
       "      <td>1</td>\n",
       "      <td>8.2934</td>\n",
       "      <td>0.14454</td>\n",
       "    </tr>\n",
       "    <tr>\n",
       "      <th>95</th>\n",
       "      <td>1</td>\n",
       "      <td>13.3940</td>\n",
       "      <td>9.05510</td>\n",
       "    </tr>\n",
       "    <tr>\n",
       "      <th>96</th>\n",
       "      <td>1</td>\n",
       "      <td>5.4369</td>\n",
       "      <td>0.61705</td>\n",
       "    </tr>\n",
       "  </tbody>\n",
       "</table>\n",
       "<p>97 rows × 3 columns</p>\n",
       "</div>"
      ],
      "text/plain": [
       "    x0       x1         y\n",
       "0    1   6.1101  17.59200\n",
       "1    1   5.5277   9.13020\n",
       "2    1   8.5186  13.66200\n",
       "3    1   7.0032  11.85400\n",
       "4    1   5.8598   6.82330\n",
       "..  ..      ...       ...\n",
       "92   1   5.8707   7.20290\n",
       "93   1   5.3054   1.98690\n",
       "94   1   8.2934   0.14454\n",
       "95   1  13.3940   9.05510\n",
       "96   1   5.4369   0.61705\n",
       "\n",
       "[97 rows x 3 columns]"
      ]
     },
     "execution_count": 176,
     "metadata": {},
     "output_type": "execute_result"
    }
   ],
   "source": [
    "data"
   ]
  },
  {
   "cell_type": "markdown",
   "id": "5944a6b7",
   "metadata": {},
   "source": [
    "2) Normal equation, "
   ]
  },
  {
   "cell_type": "markdown",
   "id": "3df94f26",
   "metadata": {},
   "source": [
    "The normal equation is $\\hat w=(X^TX)^{-1}X^TY$"
   ]
  },
  {
   "cell_type": "code",
   "execution_count": 177,
   "id": "fd3f1213",
   "metadata": {},
   "outputs": [
    {
     "name": "stdout",
     "output_type": "stream",
     "text": [
      "[[-3.89578088]\n",
      " [ 1.19303364]]\n"
     ]
    }
   ],
   "source": [
    "def normal_equation(X,y):\n",
    "    \n",
    "    return np.linalg.inv(X.T @ X) @ X.T @ y\n",
    "    \n",
    "\n",
    "X = np.matrix(data[[\"x0\",\"x1\"]])\n",
    "y = np.matrix(data[[\"y\"]])\n",
    "\n",
    "print(normal_equation(X,y))\n",
    "\n",
    "coeffi = normal_equation(X,y)"
   ]
  },
  {
   "cell_type": "code",
   "execution_count": 178,
   "id": "c70397ca",
   "metadata": {},
   "outputs": [
    {
     "data": {
      "text/plain": [
       "[<matplotlib.lines.Line2D at 0x2216026ef70>]"
      ]
     },
     "execution_count": 178,
     "metadata": {},
     "output_type": "execute_result"
    },
    {
     "data": {
      "image/png": "[encoded data removed]",
      "text/plain": [
       "<Figure size 432x288 with 1 Axes>"
      ]
     },
     "metadata": {
      "needs_background": "light"
     },
     "output_type": "display_data"
    }
   ],
   "source": [
    "\n",
    "tmp_x = [x for x in data.iloc[:,1]] # get x \n",
    "tmp_y=[float(coeffi[0])+float(coeffi[1])*i for i in tmp_x]  # get y\n",
    "\n",
    "data.plot(kind='scatter',x='x1',y='y')\n",
    "plt.plot(tmp_x,tmp_y)"
   ]
  },
  {
   "cell_type": "code",
   "execution_count": null,
   "id": "a579e911",
   "metadata": {},
   "outputs": [],
   "source": []
  },
  {
   "cell_type": "markdown",
   "id": "814daa9f",
   "metadata": {},
   "source": [
    "## 3) Gradient Descent using batch AND stochastic modes respectively:\n",
    "\n",
    "## a) Split dataset into 80% for training and 20% for testing.\n"
   ]
  },
  {
   "cell_type": "code",
   "execution_count": 179,
   "id": "7acd04e1",
   "metadata": {},
   "outputs": [],
   "source": [
    "from sklearn.model_selection import train_test_split  # split dataset\n",
    "\n",
    "X = np.matrix(data[[\"x0\",\"x1\"]])\n",
    "y = np.matrix(data[[\"y\"]])\n",
    "\n",
    "X_train,X_test,y_train,y_test=train_test_split(X,y,test_size=0.2)"
   ]
  },
  {
   "cell_type": "code",
   "execution_count": null,
   "id": "38f9064c",
   "metadata": {},
   "outputs": [],
   "source": []
  },
  {
   "cell_type": "markdown",
   "id": "2813f32b",
   "metadata": {},
   "source": [
    "b) Plot MSE vs. iteration of each mode for both training set and testing set; compare\n",
    "batch and stochastic modes (with discussion) in terms of accuracy (of testing set) and\n",
    "speed of convergence (You need to determine an appropriate termination condition,\n",
    "e.g., when cost function is less than a threshold, and/or after a given number of\n",
    "iterations.)"
   ]
  },
  {
   "cell_type": "markdown",
   "id": "bac51bf9",
   "metadata": {},
   "source": [
    "# Batch Gradient"
   ]
  },
  {
   "cell_type": "code",
   "execution_count": 180,
   "id": "3219d83c",
   "metadata": {},
   "outputs": [],
   "source": [
    "def Cost_Batch_GD(X,y,w):\n",
    "    cost = np.sum(np.power(((X @ w.T) - y), 2))/(2 * len(X)) \n",
    "    return cost\n"
   ]
  },
  {
   "cell_type": "code",
   "execution_count": 181,
   "id": "eb32ab52",
   "metadata": {},
   "outputs": [],
   "source": [
    "def Batch_GD(X, y, theta, alpha, epochs):\n",
    "    \n",
    "    temp = np.matrix(np.zeros(theta.shape))\n",
    "    \n",
    "    w = int(theta.ravel().shape[1]) # initialization w\n",
    "    \n",
    "    cost = np.zeros(epochs)\n",
    "    \n",
    "    for i in range(epochs):\n",
    "        \n",
    "        error = (X * theta.T) - y # error \n",
    "        \n",
    "        for j in range(w):\n",
    "            term = np.multiply(error, X[:,j]) # gradient for x0 and x1\n",
    "            \n",
    "            temp[0,j] = theta[0,j] - ((alpha / len(X)) * np.sum(term)) # updated gradient\n",
    "            \n",
    "        theta = temp\n",
    "        \n",
    "        cost[i] = Cost_Batch_GD(X,y,theta) # get the cost of each updated w\n",
    "        \n",
    "    return theta, cost\n",
    "        \n",
    "    "
   ]
  },
  {
   "cell_type": "code",
   "execution_count": 182,
   "id": "41f9630b",
   "metadata": {},
   "outputs": [
    {
     "name": "stdout",
     "output_type": "stream",
     "text": [
      "The final paramater is[[0.03222914 0.79163644]]\n",
      "The final cost is 5.325813504759234\n"
     ]
    },
    {
     "data": {
      "text/plain": [
       "Text(0.5, 1.0, 'Error vs Epochs in Training Dataset')"
      ]
     },
     "execution_count": 182,
     "metadata": {},
     "output_type": "execute_result"
    },
    {
     "data": {
      "image/png": "[encoded data removed]",
      "text/plain": [
       "<Figure size 432x288 with 1 Axes>"
      ]
     },
     "metadata": {
      "needs_background": "light"
     },
     "output_type": "display_data"
    }
   ],
   "source": [
    "theta = np.matrix(np.array([0,0]))\n",
    "alpha = 0.0001\n",
    "epochs = 500\n",
    "\n",
    "w,error = Batch_GD(X_train, y_train, theta, alpha, epochs)\n",
    "print(\"The final paramater is\"+ str(w))\n",
    "print(\"The final cost is \"+ str(error[-1]))\n",
    "\n",
    "plt.plot(np.arange(epochs), error)\n",
    "plt.xlabel(\"Epochs\")\n",
    "plt.ylabel(\"Error\")\n",
    "plt.title(\"Error vs Epochs in Training Dataset\")"
   ]
  },
  {
   "cell_type": "code",
   "execution_count": 183,
   "id": "9092e7ec",
   "metadata": {},
   "outputs": [
    {
     "name": "stdout",
     "output_type": "stream",
     "text": [
      "The final paramater is[[0.08970539 0.72254552]]\n",
      "The final cost is 8.118953377125287\n"
     ]
    },
    {
     "data": {
      "text/plain": [
       "Text(0.5, 1.0, 'Error vs Epochs in Testing Dataset')"
      ]
     },
     "execution_count": 183,
     "metadata": {},
     "output_type": "execute_result"
    },
    {
     "data": {
      "image/png": "[encoded data removed]",
      "text/plain": [
       "<Figure size 432x288 with 1 Axes>"
      ]
     },
     "metadata": {
      "needs_background": "light"
     },
     "output_type": "display_data"
    }
   ],
   "source": [
    "theta = np.matrix(np.array([0,0]))\n",
    "alpha = 0.0001\n",
    "epochs = 500\n",
    "\n",
    "w,error = Batch_GD(X_test, y_test, theta, alpha, epochs)\n",
    "print(\"The final paramater is\"+ str(w))\n",
    "print(\"The final cost is \"+ str(error[-1]))\n",
    "\n",
    "plt.plot(np.arange(epochs), error)\n",
    "plt.xlabel(\"Epochs\")\n",
    "plt.ylabel(\"Error\")\n",
    "plt.title(\"Error vs Epochs in Testing Dataset\")"
   ]
  },
  {
   "cell_type": "markdown",
   "id": "31c2786b",
   "metadata": {},
   "source": [
    "# SGD"
   ]
  },
  {
   "cell_type": "code",
   "execution_count": null,
   "id": "b1e4e17f",
   "metadata": {},
   "outputs": [],
   "source": []
  },
  {
   "cell_type": "code",
   "execution_count": 184,
   "id": "75d70881",
   "metadata": {},
   "outputs": [],
   "source": [
    "def Cost_SGD(X,y,w):\n",
    "    cost = np.power(((X @ w.T) - y), 2) /2  # the i-th sample of cost function\n",
    "    return cost"
   ]
  },
  {
   "cell_type": "code",
   "execution_count": 185,
   "id": "4155aa26",
   "metadata": {},
   "outputs": [],
   "source": [
    "import random \n",
    "random.seed(42)\n",
    "\n",
    "\n",
    "\n",
    "def SGD(X, y, theta, alpha, epochs):\n",
    "    \n",
    "    \n",
    "    temp = np.matrix(np.zeros(theta.shape)) # temp matrix to sotre the updated theta every time\n",
    "    \n",
    "    w = int(theta.ravel().shape[1]) # initialization w\n",
    "    \n",
    "    cost = np.zeros(len(X))\n",
    "    \n",
    "    avg_cost = np.zeros(epochs)\n",
    "    \n",
    "    for k in range(epochs):\n",
    "        \n",
    "        random_index  = np.random.choice(len(X), len(X), replace=False)\n",
    "        \n",
    "        for i in random_index:\n",
    "            \n",
    "            X_sample = X[i] # random select one sample\n",
    "            \n",
    "            y_sample = y[i]\n",
    "            \n",
    "            \n",
    "            error = (X_sample * theta.T )- y_sample # error fucntion\n",
    "            \n",
    "            \n",
    "            for j in range(w):\n",
    "                \n",
    "                temp[0,j] = theta[0,j] - alpha * np.sum(np.multiply(error, X_sample[:,j])) # updated gradient\n",
    "                \n",
    "            theta = temp # store theta after updating\n",
    "            \n",
    "            cost[i] = Cost_SGD(X_sample,y_sample,theta)\n",
    "            \n",
    "            \n",
    "        \n",
    "        avg_cost[k] = np.mean(cost) # find average cost for each epochs\n",
    "        \n",
    "    return theta,avg_cost\n",
    "                \n"
   ]
  },
  {
   "cell_type": "code",
   "execution_count": 190,
   "id": "9ebbf36c",
   "metadata": {},
   "outputs": [
    {
     "name": "stdout",
     "output_type": "stream",
     "text": [
      "The final paramater is[[-4.49638292  1.23797763]]\n"
     ]
    },
    {
     "data": {
      "text/plain": [
       "Text(0.5, 1.0, 'SGD in Training Dataset')"
      ]
     },
     "execution_count": 190,
     "metadata": {},
     "output_type": "execute_result"
    },
    {
     "data": {
      "image/png": "[encoded data removed]",
      "text/plain": [
       "<Figure size 432x288 with 1 Axes>"
      ]
     },
     "metadata": {
      "needs_background": "light"
     },
     "output_type": "display_data"
    }
   ],
   "source": [
    "theta = np.matrix(np.array([0,0]))\n",
    "alpha = 0.001\n",
    "epochs = 500\n",
    "\n",
    "w, avg_cost = SGD(X_train, y_train, theta, alpha, epochs)\n",
    "\n",
    "print(\"The final paramater is\"+ str(w))\n",
    "\n",
    "\n",
    "\n",
    "plt.plot(np.arange(epochs), avg_cost)\n",
    "plt.xlabel(\"Epochs\")\n",
    "plt.ylabel(\"avg_cost\")\n",
    "plt.title(\"SGD in Training Dataset\")"
   ]
  },
  {
   "cell_type": "code",
   "execution_count": 193,
   "id": "1bdfff4a",
   "metadata": {},
   "outputs": [
    {
     "name": "stdout",
     "output_type": "stream",
     "text": [
      "The final paramater is[[-0.70740631  0.8603639 ]]\n"
     ]
    },
    {
     "data": {
      "text/plain": [
       "Text(0.5, 1.0, 'SGD in Testing Dataset')"
      ]
     },
     "execution_count": 193,
     "metadata": {},
     "output_type": "execute_result"
    },
    {
     "data": {
      "image/png": "[encoded data removed]",
      "text/plain": [
       "<Figure size 432x288 with 1 Axes>"
      ]
     },
     "metadata": {
      "needs_background": "light"
     },
     "output_type": "display_data"
    }
   ],
   "source": [
    "theta = np.matrix(np.array([0,0]))\n",
    "alpha = 0.001\n",
    "epochs = 500\n",
    "\n",
    "w, avg_cost = SGD(X_test, y_test, theta, alpha, epochs)\n",
    "print(\"The final paramater is\"+ str(w))\n",
    "\n",
    "\n",
    "plt.plot(np.arange(epochs), avg_cost)\n",
    "plt.xlabel(\"Epochs\")\n",
    "plt.ylabel(\"avg_cost\")\n",
    "plt.title(\"SGD in Testing Dataset\")"
   ]
  },
  {
   "cell_type": "markdown",
   "id": "078d6621",
   "metadata": {},
   "source": [
    "- The decline of batch gradient is more gentle, and the volatility of random gradient decline is relatively large.\n",
    "- From the figure of Batch GD and SGD with its testing dataset, we can see the SGD converge faster than Batch GD, something like SGD get its cost which around 4 in less 100 epoch, but Batch GD get its cost around 4 in 100-200.\n",
    "- Batch GD is accuracted than SGD in this case."
   ]
  },
  {
   "cell_type": "code",
   "execution_count": null,
   "id": "c71207dc",
   "metadata": {},
   "outputs": [],
   "source": []
  },
  {
   "cell_type": "markdown",
   "id": "da85d7d9",
   "metadata": {},
   "source": [
    "c) Plot MSE vs. learning rate (using 0.01, 0.02, 0.03, 0.04, 0.05, 0.06, 0.07, 0.08, 0.09, 0.1)\n",
    "and determine the best learning rate."
   ]
  },
  {
   "cell_type": "code",
   "execution_count": 198,
   "id": "b1b4fd9c",
   "metadata": {},
   "outputs": [
    {
     "name": "stderr",
     "output_type": "stream",
     "text": [
      "C:\\Users\\10617\\AppData\\Local\\Temp/ipykernel_22100/2806973289.py:2: RuntimeWarning: overflow encountered in power\n",
      "  cost = np.sum(np.power(((X @ w.T) - y), 2))/(2 * len(X))\n",
      "C:\\Users\\10617\\AppData\\Local\\Temp/ipykernel_22100/579750923.py:16: RuntimeWarning: invalid value encountered in double_scalars\n",
      "  temp[0,j] = theta[0,j] - ((alpha / len(X)) * np.sum(term)) # updated gradient\n"
     ]
    }
   ],
   "source": [
    "learning_rate_test_list= [0.01, 0.02, 0.03, 0.04, 0.05, 0.06, 0.07, 0.08, 0.09, 0.1]\n",
    "\n",
    "cost_collect=[]\n",
    "iters = 4000\n",
    "\n",
    "for lr in learning_rate_test_list:\n",
    "    \n",
    "    g,cost = Batch_GD(X_test, y_test, theta, lr, iters)\n",
    "    \n",
    "    cost_collect.append(cost[-1])"
   ]
  },
  {
   "cell_type": "code",
   "execution_count": 199,
   "id": "44053479",
   "metadata": {},
   "outputs": [
    {
     "data": {
      "text/plain": [
       "[<matplotlib.lines.Line2D at 0x2216189ea00>]"
      ]
     },
     "execution_count": 199,
     "metadata": {},
     "output_type": "execute_result"
    },
    {
     "data": {
      "image/png": "[encoded data removed]",
      "text/plain": [
       "<Figure size 432x288 with 1 Axes>"
      ]
     },
     "metadata": {
      "needs_background": "light"
     },
     "output_type": "display_data"
    }
   ],
   "source": [
    "plt.plot(learning_rate_test_list,cost_collect)"
   ]
  },
  {
   "cell_type": "markdown",
   "id": "e0062a20",
   "metadata": {},
   "source": [
    "- 0.02 is the best lr in this case, cause the elbow defination."
   ]
  },
  {
   "cell_type": "code",
   "execution_count": null,
   "id": "fcb77261",
   "metadata": {},
   "outputs": [],
   "source": []
  }
 ],
 "metadata": {
  "kernelspec": {
   "display_name": "Python 3 (ipykernel)",
   "language": "python",
   "name": "python3"
  },
  "language_info": {
   "codemirror_mode": {
    "name": "ipython",
    "version": 3
   },
   "file_extension": ".py",
   "mimetype": "text/x-python",
   "name": "python",
   "nbconvert_exporter": "python",
   "pygments_lexer": "ipython3",
   "version": "3.9.7"
  }
 },
 "nbformat": 4,
 "nbformat_minor": 5
}
