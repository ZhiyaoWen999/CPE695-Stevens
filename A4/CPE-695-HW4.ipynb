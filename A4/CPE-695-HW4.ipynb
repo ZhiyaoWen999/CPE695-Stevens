{
 "cells": [
  {
   "cell_type": "code",
   "execution_count": 28,
   "id": "2492f206",
   "metadata": {},
   "outputs": [],
   "source": [
    "from ipywidgets import interact\n",
    "import pandas\n",
    "from sklearn.model_selection import train_test_split\n",
    "from sklearn import tree\n",
    "from sklearn.neural_network import MLPClassifier\n",
    "from sklearn.model_selection import cross_val_score\n",
    "from sklearn.metrics import accuracy_score,precision_recall_curve,confusion_matrix,classification_report\n",
    "import matplotlib.pyplot as plt\n",
    "raw_data=pandas.read_csv('Titanic.csv')"
   ]
  },
  {
   "cell_type": "code",
   "execution_count": 2,
   "id": "9b0aa7cd",
   "metadata": {},
   "outputs": [
    {
     "data": {
      "text/html": [
       "<div>\n",
       "<style scoped>\n",
       "    .dataframe tbody tr th:only-of-type {\n",
       "        vertical-align: middle;\n",
       "    }\n",
       "\n",
       "    .dataframe tbody tr th {\n",
       "        vertical-align: top;\n",
       "    }\n",
       "\n",
       "    .dataframe thead th {\n",
       "        text-align: right;\n",
       "    }\n",
       "</style>\n",
       "<table border=\"1\" class=\"dataframe\">\n",
       "  <thead>\n",
       "    <tr style=\"text-align: right;\">\n",
       "      <th></th>\n",
       "      <th>Unnamed: 0</th>\n",
       "      <th>pclass</th>\n",
       "      <th>survived</th>\n",
       "      <th>name</th>\n",
       "      <th>sex</th>\n",
       "      <th>age</th>\n",
       "      <th>sibsp</th>\n",
       "      <th>parch</th>\n",
       "      <th>ticket</th>\n",
       "      <th>fare</th>\n",
       "      <th>cabin</th>\n",
       "      <th>embarked</th>\n",
       "      <th>boat</th>\n",
       "      <th>body</th>\n",
       "      <th>home.dest</th>\n",
       "    </tr>\n",
       "  </thead>\n",
       "  <tbody>\n",
       "    <tr>\n",
       "      <th>0</th>\n",
       "      <td>1</td>\n",
       "      <td>1st</td>\n",
       "      <td>1</td>\n",
       "      <td>Allen, Miss. Elisabeth Walton</td>\n",
       "      <td>female</td>\n",
       "      <td>29.0000</td>\n",
       "      <td>0</td>\n",
       "      <td>0</td>\n",
       "      <td>24160</td>\n",
       "      <td>211.337494</td>\n",
       "      <td>B5</td>\n",
       "      <td>Southampton</td>\n",
       "      <td>2</td>\n",
       "      <td>NaN</td>\n",
       "      <td>St Louis, MO</td>\n",
       "    </tr>\n",
       "    <tr>\n",
       "      <th>1</th>\n",
       "      <td>2</td>\n",
       "      <td>1st</td>\n",
       "      <td>1</td>\n",
       "      <td>Allison, Master. Hudson Trevor</td>\n",
       "      <td>male</td>\n",
       "      <td>0.9167</td>\n",
       "      <td>1</td>\n",
       "      <td>2</td>\n",
       "      <td>113781</td>\n",
       "      <td>151.550003</td>\n",
       "      <td>C22 C26</td>\n",
       "      <td>Southampton</td>\n",
       "      <td>11</td>\n",
       "      <td>NaN</td>\n",
       "      <td>Montreal, PQ / Chesterville, ON</td>\n",
       "    </tr>\n",
       "    <tr>\n",
       "      <th>2</th>\n",
       "      <td>3</td>\n",
       "      <td>1st</td>\n",
       "      <td>0</td>\n",
       "      <td>Allison, Miss. Helen Loraine</td>\n",
       "      <td>female</td>\n",
       "      <td>2.0000</td>\n",
       "      <td>1</td>\n",
       "      <td>2</td>\n",
       "      <td>113781</td>\n",
       "      <td>151.550003</td>\n",
       "      <td>C22 C26</td>\n",
       "      <td>Southampton</td>\n",
       "      <td>NaN</td>\n",
       "      <td>NaN</td>\n",
       "      <td>Montreal, PQ / Chesterville, ON</td>\n",
       "    </tr>\n",
       "    <tr>\n",
       "      <th>3</th>\n",
       "      <td>4</td>\n",
       "      <td>1st</td>\n",
       "      <td>0</td>\n",
       "      <td>Allison, Mr. Hudson Joshua Crei</td>\n",
       "      <td>male</td>\n",
       "      <td>30.0000</td>\n",
       "      <td>1</td>\n",
       "      <td>2</td>\n",
       "      <td>113781</td>\n",
       "      <td>151.550003</td>\n",
       "      <td>C22 C26</td>\n",
       "      <td>Southampton</td>\n",
       "      <td>NaN</td>\n",
       "      <td>135.0</td>\n",
       "      <td>Montreal, PQ / Chesterville, ON</td>\n",
       "    </tr>\n",
       "    <tr>\n",
       "      <th>4</th>\n",
       "      <td>5</td>\n",
       "      <td>1st</td>\n",
       "      <td>0</td>\n",
       "      <td>Allison, Mrs. Hudson J C (Bessi</td>\n",
       "      <td>female</td>\n",
       "      <td>25.0000</td>\n",
       "      <td>1</td>\n",
       "      <td>2</td>\n",
       "      <td>113781</td>\n",
       "      <td>151.550003</td>\n",
       "      <td>C22 C26</td>\n",
       "      <td>Southampton</td>\n",
       "      <td>NaN</td>\n",
       "      <td>NaN</td>\n",
       "      <td>Montreal, PQ / Chesterville, ON</td>\n",
       "    </tr>\n",
       "  </tbody>\n",
       "</table>\n",
       "</div>"
      ],
      "text/plain": [
       "   Unnamed: 0 pclass  survived                             name     sex  \\\n",
       "0           1    1st         1    Allen, Miss. Elisabeth Walton  female   \n",
       "1           2    1st         1   Allison, Master. Hudson Trevor    male   \n",
       "2           3    1st         0     Allison, Miss. Helen Loraine  female   \n",
       "3           4    1st         0  Allison, Mr. Hudson Joshua Crei    male   \n",
       "4           5    1st         0  Allison, Mrs. Hudson J C (Bessi  female   \n",
       "\n",
       "       age  sibsp  parch  ticket        fare    cabin     embarked boat  \\\n",
       "0  29.0000      0      0   24160  211.337494       B5  Southampton    2   \n",
       "1   0.9167      1      2  113781  151.550003  C22 C26  Southampton   11   \n",
       "2   2.0000      1      2  113781  151.550003  C22 C26  Southampton  NaN   \n",
       "3  30.0000      1      2  113781  151.550003  C22 C26  Southampton  NaN   \n",
       "4  25.0000      1      2  113781  151.550003  C22 C26  Southampton  NaN   \n",
       "\n",
       "    body                        home.dest  \n",
       "0    NaN                     St Louis, MO  \n",
       "1    NaN  Montreal, PQ / Chesterville, ON  \n",
       "2    NaN  Montreal, PQ / Chesterville, ON  \n",
       "3  135.0  Montreal, PQ / Chesterville, ON  \n",
       "4    NaN  Montreal, PQ / Chesterville, ON  "
      ]
     },
     "execution_count": 2,
     "metadata": {},
     "output_type": "execute_result"
    }
   ],
   "source": [
    "raw_data.head(5)"
   ]
  },
  {
   "cell_type": "code",
   "execution_count": 3,
   "id": "03080f43",
   "metadata": {},
   "outputs": [],
   "source": [
    "data=raw_data[['pclass','sex','age','sibsp','survived']]"
   ]
  },
  {
   "cell_type": "code",
   "execution_count": 4,
   "id": "61b12405",
   "metadata": {},
   "outputs": [
    {
     "data": {
      "text/html": [
       "<div>\n",
       "<style scoped>\n",
       "    .dataframe tbody tr th:only-of-type {\n",
       "        vertical-align: middle;\n",
       "    }\n",
       "\n",
       "    .dataframe tbody tr th {\n",
       "        vertical-align: top;\n",
       "    }\n",
       "\n",
       "    .dataframe thead th {\n",
       "        text-align: right;\n",
       "    }\n",
       "</style>\n",
       "<table border=\"1\" class=\"dataframe\">\n",
       "  <thead>\n",
       "    <tr style=\"text-align: right;\">\n",
       "      <th></th>\n",
       "      <th>pclass</th>\n",
       "      <th>sex</th>\n",
       "      <th>age</th>\n",
       "      <th>sibsp</th>\n",
       "      <th>survived</th>\n",
       "    </tr>\n",
       "  </thead>\n",
       "  <tbody>\n",
       "    <tr>\n",
       "      <th>0</th>\n",
       "      <td>1st</td>\n",
       "      <td>female</td>\n",
       "      <td>29.0000</td>\n",
       "      <td>0</td>\n",
       "      <td>1</td>\n",
       "    </tr>\n",
       "    <tr>\n",
       "      <th>1</th>\n",
       "      <td>1st</td>\n",
       "      <td>male</td>\n",
       "      <td>0.9167</td>\n",
       "      <td>1</td>\n",
       "      <td>1</td>\n",
       "    </tr>\n",
       "    <tr>\n",
       "      <th>2</th>\n",
       "      <td>1st</td>\n",
       "      <td>female</td>\n",
       "      <td>2.0000</td>\n",
       "      <td>1</td>\n",
       "      <td>0</td>\n",
       "    </tr>\n",
       "    <tr>\n",
       "      <th>3</th>\n",
       "      <td>1st</td>\n",
       "      <td>male</td>\n",
       "      <td>30.0000</td>\n",
       "      <td>1</td>\n",
       "      <td>0</td>\n",
       "    </tr>\n",
       "    <tr>\n",
       "      <th>4</th>\n",
       "      <td>1st</td>\n",
       "      <td>female</td>\n",
       "      <td>25.0000</td>\n",
       "      <td>1</td>\n",
       "      <td>0</td>\n",
       "    </tr>\n",
       "  </tbody>\n",
       "</table>\n",
       "</div>"
      ],
      "text/plain": [
       "  pclass     sex      age  sibsp  survived\n",
       "0    1st  female  29.0000      0         1\n",
       "1    1st    male   0.9167      1         1\n",
       "2    1st  female   2.0000      1         0\n",
       "3    1st    male  30.0000      1         0\n",
       "4    1st  female  25.0000      1         0"
      ]
     },
     "execution_count": 4,
     "metadata": {},
     "output_type": "execute_result"
    }
   ],
   "source": [
    "data.head(5)"
   ]
  },
  {
   "cell_type": "code",
   "execution_count": 5,
   "id": "8f91f265",
   "metadata": {},
   "outputs": [
    {
     "name": "stderr",
     "output_type": "stream",
     "text": [
      "C:\\Users\\10617\\anaconda3\\lib\\site-packages\\pandas\\core\\generic.py:6619: SettingWithCopyWarning: \n",
      "A value is trying to be set on a copy of a slice from a DataFrame\n",
      "\n",
      "See the caveats in the documentation: https://pandas.pydata.org/pandas-docs/stable/user_guide/indexing.html#returning-a-view-versus-a-copy\n",
      "  return self._update_inplace(result)\n"
     ]
    }
   ],
   "source": [
    "data['pclass'].replace({'1st':1,'2nd':2,'3rd':3},inplace=True)"
   ]
  },
  {
   "cell_type": "code",
   "execution_count": 6,
   "id": "650ea10a",
   "metadata": {},
   "outputs": [
    {
     "name": "stderr",
     "output_type": "stream",
     "text": [
      "C:\\Users\\10617\\AppData\\Local\\Temp/ipykernel_52268/1071599133.py:1: SettingWithCopyWarning: \n",
      "A value is trying to be set on a copy of a slice from a DataFrame.\n",
      "Try using .loc[row_indexer,col_indexer] = value instead\n",
      "\n",
      "See the caveats in the documentation: https://pandas.pydata.org/pandas-docs/stable/user_guide/indexing.html#returning-a-view-versus-a-copy\n",
      "  data['sex']=data['sex'].replace({'female':0,'male':1}).astype(int)\n"
     ]
    }
   ],
   "source": [
    "data['sex']=data['sex'].replace({'female':0,'male':1}).astype(int)"
   ]
  },
  {
   "cell_type": "code",
   "execution_count": 8,
   "id": "a97e67dd",
   "metadata": {},
   "outputs": [
    {
     "data": {
      "text/html": [
       "<div>\n",
       "<style scoped>\n",
       "    .dataframe tbody tr th:only-of-type {\n",
       "        vertical-align: middle;\n",
       "    }\n",
       "\n",
       "    .dataframe tbody tr th {\n",
       "        vertical-align: top;\n",
       "    }\n",
       "\n",
       "    .dataframe thead th {\n",
       "        text-align: right;\n",
       "    }\n",
       "</style>\n",
       "<table border=\"1\" class=\"dataframe\">\n",
       "  <thead>\n",
       "    <tr style=\"text-align: right;\">\n",
       "      <th></th>\n",
       "      <th>pclass</th>\n",
       "      <th>sex</th>\n",
       "      <th>age</th>\n",
       "      <th>sibsp</th>\n",
       "      <th>survived</th>\n",
       "    </tr>\n",
       "  </thead>\n",
       "  <tbody>\n",
       "    <tr>\n",
       "      <th>count</th>\n",
       "      <td>1309.000000</td>\n",
       "      <td>1309.000000</td>\n",
       "      <td>1046.000000</td>\n",
       "      <td>1309.000000</td>\n",
       "      <td>1309.000000</td>\n",
       "    </tr>\n",
       "    <tr>\n",
       "      <th>mean</th>\n",
       "      <td>2.294882</td>\n",
       "      <td>0.644003</td>\n",
       "      <td>29.881135</td>\n",
       "      <td>0.498854</td>\n",
       "      <td>0.381971</td>\n",
       "    </tr>\n",
       "    <tr>\n",
       "      <th>std</th>\n",
       "      <td>0.837836</td>\n",
       "      <td>0.478997</td>\n",
       "      <td>14.413500</td>\n",
       "      <td>1.041658</td>\n",
       "      <td>0.486055</td>\n",
       "    </tr>\n",
       "    <tr>\n",
       "      <th>min</th>\n",
       "      <td>1.000000</td>\n",
       "      <td>0.000000</td>\n",
       "      <td>0.166700</td>\n",
       "      <td>0.000000</td>\n",
       "      <td>0.000000</td>\n",
       "    </tr>\n",
       "    <tr>\n",
       "      <th>25%</th>\n",
       "      <td>2.000000</td>\n",
       "      <td>0.000000</td>\n",
       "      <td>21.000000</td>\n",
       "      <td>0.000000</td>\n",
       "      <td>0.000000</td>\n",
       "    </tr>\n",
       "    <tr>\n",
       "      <th>50%</th>\n",
       "      <td>3.000000</td>\n",
       "      <td>1.000000</td>\n",
       "      <td>28.000000</td>\n",
       "      <td>0.000000</td>\n",
       "      <td>0.000000</td>\n",
       "    </tr>\n",
       "    <tr>\n",
       "      <th>75%</th>\n",
       "      <td>3.000000</td>\n",
       "      <td>1.000000</td>\n",
       "      <td>39.000000</td>\n",
       "      <td>1.000000</td>\n",
       "      <td>1.000000</td>\n",
       "    </tr>\n",
       "    <tr>\n",
       "      <th>max</th>\n",
       "      <td>3.000000</td>\n",
       "      <td>1.000000</td>\n",
       "      <td>80.000000</td>\n",
       "      <td>8.000000</td>\n",
       "      <td>1.000000</td>\n",
       "    </tr>\n",
       "  </tbody>\n",
       "</table>\n",
       "</div>"
      ],
      "text/plain": [
       "            pclass          sex          age        sibsp     survived\n",
       "count  1309.000000  1309.000000  1046.000000  1309.000000  1309.000000\n",
       "mean      2.294882     0.644003    29.881135     0.498854     0.381971\n",
       "std       0.837836     0.478997    14.413500     1.041658     0.486055\n",
       "min       1.000000     0.000000     0.166700     0.000000     0.000000\n",
       "25%       2.000000     0.000000    21.000000     0.000000     0.000000\n",
       "50%       3.000000     1.000000    28.000000     0.000000     0.000000\n",
       "75%       3.000000     1.000000    39.000000     1.000000     1.000000\n",
       "max       3.000000     1.000000    80.000000     8.000000     1.000000"
      ]
     },
     "execution_count": 8,
     "metadata": {},
     "output_type": "execute_result"
    }
   ],
   "source": [
    "data.describe()"
   ]
  },
  {
   "cell_type": "markdown",
   "id": "553fb8b8",
   "metadata": {},
   "source": [
    "# Drop Nan"
   ]
  },
  {
   "cell_type": "code",
   "execution_count": 9,
   "id": "fb2e2a99",
   "metadata": {},
   "outputs": [
    {
     "name": "stdout",
     "output_type": "stream",
     "text": [
      "<class 'pandas.core.frame.DataFrame'>\n",
      "Int64Index: 1046 entries, 0 to 1308\n",
      "Data columns (total 5 columns):\n",
      " #   Column    Non-Null Count  Dtype  \n",
      "---  ------    --------------  -----  \n",
      " 0   pclass    1046 non-null   int64  \n",
      " 1   sex       1046 non-null   int32  \n",
      " 2   age       1046 non-null   float64\n",
      " 3   sibsp     1046 non-null   int64  \n",
      " 4   survived  1046 non-null   int64  \n",
      "dtypes: float64(1), int32(1), int64(3)\n",
      "memory usage: 44.9 KB\n"
     ]
    }
   ],
   "source": [
    "cleaned_data=data.dropna(axis = 0 )\n",
    "cleaned_data.info()"
   ]
  },
  {
   "cell_type": "markdown",
   "id": "d1a403a8",
   "metadata": {},
   "source": [
    "# Step 1: split the train data 2/8"
   ]
  },
  {
   "cell_type": "code",
   "execution_count": 11,
   "id": "678340f8",
   "metadata": {},
   "outputs": [],
   "source": [
    "train_X,test_X,train_y,test_y = train_test_split(cleaned_data[['pclass','sex','age','sibsp']],\\\n",
    "                                                 cleaned_data['survived'],test_size=0.2,random_state=5)"
   ]
  },
  {
   "cell_type": "markdown",
   "id": "d327468c",
   "metadata": {},
   "source": [
    "# Step2 : Two models"
   ]
  },
  {
   "cell_type": "code",
   "execution_count": 21,
   "id": "161f4d04",
   "metadata": {},
   "outputs": [],
   "source": [
    "user_alpha=1e-3\n",
    "user_learningrate= 'adaptive'\n",
    "user_solver='adam'\n",
    "user_max_iter=1000\n",
    "clf_adam_4_4 = MLPClassifier(hidden_layer_sizes=(4, 4),\\\n",
    "                    activation='logistic',\\\n",
    "                    alpha=user_alpha,\n",
    "                    learning_rate=user_learningrate,\\\n",
    "                    solver=user_solver,\\\n",
    "                    max_iter=user_max_iter,\\\n",
    "                    random_state=1)\n",
    "clf_adam_6_4 = MLPClassifier(hidden_layer_sizes=(6, 4),\\\n",
    "                    activation='logistic',\\\n",
    "                    alpha=user_alpha,\n",
    "                    learning_rate=user_learningrate,\\\n",
    "                    solver=user_solver,\\\n",
    "                    max_iter=user_max_iter,\\\n",
    "                    random_state=1)"
   ]
  },
  {
   "cell_type": "code",
   "execution_count": 22,
   "id": "093a61ef",
   "metadata": {},
   "outputs": [
    {
     "data": {
      "text/plain": [
       "MLPClassifier(activation='logistic', alpha=0.001, hidden_layer_sizes=(6, 4),\n",
       "              learning_rate='adaptive', max_iter=1000, random_state=1)"
      ]
     },
     "execution_count": 22,
     "metadata": {},
     "output_type": "execute_result"
    }
   ],
   "source": [
    "clf_adam_4_4.fit(train_X, train_y)\n",
    "clf_adam_6_4.fit(train_X, train_y)"
   ]
  },
  {
   "cell_type": "markdown",
   "id": "7c043f57",
   "metadata": {},
   "source": [
    "# Step3: Check the performance of the model with out-of- sample accuracy"
   ]
  },
  {
   "cell_type": "markdown",
   "id": "6590f59c",
   "metadata": {},
   "source": [
    "# hidden_layer = (4,4)"
   ]
  },
  {
   "cell_type": "code",
   "execution_count": 31,
   "id": "2f330515",
   "metadata": {},
   "outputs": [
    {
     "data": {
      "text/plain": [
       "array([[134,   4],\n",
       "       [ 23,  49]], dtype=int64)"
      ]
     },
     "execution_count": 31,
     "metadata": {},
     "output_type": "execute_result"
    }
   ],
   "source": [
    "confusion_matrix(test_y, clf_adam_4_4.predict(test_X))"
   ]
  },
  {
   "cell_type": "code",
   "execution_count": 32,
   "id": "09af4df3",
   "metadata": {},
   "outputs": [
    {
     "data": {
      "text/plain": [
       "0.6805555555555556"
      ]
     },
     "execution_count": 32,
     "metadata": {},
     "output_type": "execute_result"
    }
   ],
   "source": [
    "survivors = 49 / (23 + 49)\n",
    "survivors"
   ]
  },
  {
   "cell_type": "code",
   "execution_count": 33,
   "id": "b95306e9",
   "metadata": {},
   "outputs": [
    {
     "data": {
      "text/plain": [
       "0.9710144927536232"
      ]
     },
     "execution_count": 33,
     "metadata": {},
     "output_type": "execute_result"
    }
   ],
   "source": [
    "fatalities = 134 / (134 + 4)\n",
    "fatalities"
   ]
  },
  {
   "cell_type": "code",
   "execution_count": 34,
   "id": "3a910fb8",
   "metadata": {},
   "outputs": [
    {
     "name": "stdout",
     "output_type": "stream",
     "text": [
      "              precision    recall  f1-score   support\n",
      "\n",
      "           0       0.85      0.97      0.91       138\n",
      "           1       0.92      0.68      0.78        72\n",
      "\n",
      "    accuracy                           0.87       210\n",
      "   macro avg       0.89      0.83      0.85       210\n",
      "weighted avg       0.88      0.87      0.87       210\n",
      "\n"
     ]
    }
   ],
   "source": [
    "print(classification_report(test_y, clf_adam_4_4.predict(test_X)))"
   ]
  },
  {
   "cell_type": "markdown",
   "id": "98abc432",
   "metadata": {},
   "source": [
    "# hidden_layer = (6,4)"
   ]
  },
  {
   "cell_type": "code",
   "execution_count": 35,
   "id": "a1c6c675",
   "metadata": {},
   "outputs": [
    {
     "data": {
      "text/plain": [
       "array([[133,   5],\n",
       "       [ 22,  50]], dtype=int64)"
      ]
     },
     "execution_count": 35,
     "metadata": {},
     "output_type": "execute_result"
    }
   ],
   "source": [
    "confusion_matrix(test_y, clf_adam_6_4.predict(test_X))"
   ]
  },
  {
   "cell_type": "code",
   "execution_count": 36,
   "id": "21570d4c",
   "metadata": {},
   "outputs": [
    {
     "data": {
      "text/plain": [
       "0.6944444444444444"
      ]
     },
     "execution_count": 36,
     "metadata": {},
     "output_type": "execute_result"
    }
   ],
   "source": [
    "survivors = 50 / (50 + 22)\n",
    "survivors"
   ]
  },
  {
   "cell_type": "code",
   "execution_count": 39,
   "id": "26a9eaaf",
   "metadata": {},
   "outputs": [
    {
     "data": {
      "text/plain": [
       "0.9637681159420289"
      ]
     },
     "execution_count": 39,
     "metadata": {},
     "output_type": "execute_result"
    }
   ],
   "source": [
    "fatalities = 133 / (133 + 5)\n",
    "fatalities"
   ]
  },
  {
   "cell_type": "code",
   "execution_count": 40,
   "id": "6ba0eed8",
   "metadata": {},
   "outputs": [
    {
     "name": "stdout",
     "output_type": "stream",
     "text": [
      "              precision    recall  f1-score   support\n",
      "\n",
      "           0       0.86      0.96      0.91       138\n",
      "           1       0.91      0.69      0.79        72\n",
      "\n",
      "    accuracy                           0.87       210\n",
      "   macro avg       0.88      0.83      0.85       210\n",
      "weighted avg       0.88      0.87      0.87       210\n",
      "\n"
     ]
    }
   ],
   "source": [
    "print(classification_report(test_y, clf_adam_6_4.predict(test_X)))"
   ]
  },
  {
   "cell_type": "markdown",
   "id": "e19b22fc",
   "metadata": {},
   "source": [
    "# Step 4: Compare the out-of-sample accuracy (as defined in step 3) with the random forest obtained in homework #3. (You can either use a table or plot the results of the two algorithms in one figure). Explain any difference in accuracy"
   ]
  },
  {
   "cell_type": "markdown",
   "id": "f62875ce",
   "metadata": {},
   "source": [
    "models|out-of-sample of survivors predicted|out-of-sample of fatalities predicted|\n",
    "---|---|---\n",
    " Random Forest Tree|0.7|0.75\n",
    " (4,4) Neural Network|0.68|0.97\n",
    " (6,4) Neural Network|0.68|0.96"
   ]
  },
  {
   "cell_type": "code",
   "execution_count": null,
   "id": "b37da8e0",
   "metadata": {},
   "outputs": [],
   "source": []
  }
 ],
 "metadata": {
  "kernelspec": {
   "display_name": "Python 3 (ipykernel)",
   "language": "python",
   "name": "python3"
  },
  "language_info": {
   "codemirror_mode": {
    "name": "ipython",
    "version": 3
   },
   "file_extension": ".py",
   "mimetype": "text/x-python",
   "name": "python",
   "nbconvert_exporter": "python",
   "pygments_lexer": "ipython3",
   "version": "3.9.7"
  }
 },
 "nbformat": 4,
 "nbformat_minor": 5
}
